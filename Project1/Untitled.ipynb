{
 "cells": [
  {
   "cell_type": "markdown",
   "id": "fb4301fb",
   "metadata": {},
   "source": [
    "Bài 1: Creat a chess table using numpy and opencv"
   ]
  },
  {
   "cell_type": "code",
   "execution_count": 8,
   "id": "173db5d9",
   "metadata": {},
   "outputs": [],
   "source": [
    "import numpy as np\n",
    "import cv2\n",
    "\n",
    "\n",
    "def create_chessborad(board_size):\n",
    "    square_size = 50\n",
    "    height = board_size * square_size\n",
    "    width = board_size * square_size \n",
    "    chessboard = np.zeros((height, width, 3), dtype=np.uint8)\n",
    "    for row in range(board_size):\n",
    "        for col in range(board_size):\n",
    "            if (row + col) % 2 == 0:\n",
    "                color = (255, 255, 255)\n",
    "            else:\n",
    "                color = (0, 0, 0)\n",
    "            \n",
    "            start_x = col * square_size\n",
    "            start_y = row * square_size\n",
    "            end_x = start_x + square_size\n",
    "            end_y = start_y + square_size\n",
    "            chessboard[start_y:end_y, start_x:end_x] = color\n",
    "    return chessboard\n",
    "\n",
    "board_size = 8\n",
    "chessboard_img = create_chessborad(board_size)\n",
    "\n",
    "cv2.imshow('Chessboard', chessboard_img)\n",
    "cv2.waitKey(0)\n",
    "cv2.destroyAllWindows()\n"
   ]
  },
  {
   "cell_type": "markdown",
   "id": "e1da7059",
   "metadata": {},
   "source": [
    "Bài 8: Find secret with subtracting 2 images"
   ]
  },
  {
   "cell_type": "code",
   "execution_count": 2,
   "id": "6ad154db",
   "metadata": {},
   "outputs": [],
   "source": [
    "# importing opencv \n",
    "import cv2 \n",
    "  \n",
    "# reading the images \n",
    "circle = cv2.imread('circle.png') \n",
    "star = cv2.imread('star.png') \n",
    "  \n",
    "# subtract the images \n",
    "subtracted = cv2.subtract(star, circle) \n",
    "  \n",
    "# TO show the output \n",
    "cv2.imshow('image', subtracted) \n",
    "  \n",
    "# To close the window \n",
    "cv2.waitKey(0) \n",
    "cv2.destroyAllWindows()"
   ]
  },
  {
   "cell_type": "code",
   "execution_count": 1,
   "id": "3fc741c4",
   "metadata": {},
   "outputs": [],
   "source": [
    "import cv2\n",
    "import numpy as np\n",
    "\n",
    "# Load the images\n",
    "image1 = cv2.imread('circle.png')\n",
    "image2 = cv2.imread('star.png')\n",
    "\n",
    "# Ensure both images are the same size\n",
    "if image1.shape != image2.shape:\n",
    "    image2 = cv2.resize(image2, (image1.shape[1], image1.shape[0]))\n",
    "\n",
    "# Ensure both images have the same number of channels\n",
    "if image1.shape[2] != image2.shape[2]:\n",
    "    if len(image1.shape) == 2:  # If image1 is grayscale\n",
    "        image1 = cv2.cvtColor(image1, cv2.COLOR_GRAY2BGR)\n",
    "    if len(image2.shape) == 2:  # If image2 is grayscale\n",
    "        image2 = cv2.cvtColor(image2, cv2.COLOR_GRAY2BGR)\n",
    "\n",
    "# Subtract the images\n",
    "difference = cv2.absdiff(image1, image2)\n",
    "\n",
    "# Convert the difference image to grayscale (optional)\n",
    "difference_gray = cv2.cvtColor(difference, cv2.COLOR_BGR2GRAY)\n",
    "\n",
    "# Apply a binary threshold to emphasize the differences (optional)\n",
    "_, thresholded_difference = cv2.threshold(difference_gray, 30, 255, cv2.THRESH_BINARY)\n",
    "\n",
    "# Display the results\n",
    "cv2.imshow('Difference', difference)\n",
    "cv2.imshow('Thresholded Difference', thresholded_difference)\n",
    "\n",
    "# Save the result (optional)\n",
    "cv2.imwrite('difference.jpg', difference)\n",
    "cv2.imwrite('thresholded_difference.jpg', thresholded_difference)\n",
    "cv2.waitKey(0)\n",
    "cv2.destroyAllWindows()\n"
   ]
  },
  {
   "cell_type": "code",
   "execution_count": 2,
   "id": "e9816074",
   "metadata": {},
   "outputs": [],
   "source": [
    "import cv2\n",
    "import numpy as np\n",
    "\n",
    "def subtract_images(image_path1, image_path2):\n",
    "    image1 = cv2.imread(image_path1)\n",
    "    image2 = cv2.imread(image_path2)\n",
    "\n",
    "    if image1.shape == image2.shape:\n",
    "        result = np.zeros_like(image1)\n",
    "        \n",
    "        for i in range(image1.shape[0]):\n",
    "            for j in range(image1.shape[1]):\n",
    "                for k in range(image1.shape[2]):\n",
    "                    result[i, j, k] = image1[i, j, k] - image2[i, j, k]\n",
    "        \n",
    "        cv2.imshow('Subtracted Image', result)\n",
    "        cv2.waitKey(0)\n",
    "        cv2.destroyAllWindows()\n",
    "    else:\n",
    "        print(\"Hình ảnh không đúng kết quả\")\n",
    "\n",
    "subtract_images('star.png', 'circle.png')\n"
   ]
  },
  {
   "cell_type": "code",
   "execution_count": 1,
   "id": "5d3f7e7a",
   "metadata": {},
   "outputs": [],
   "source": [
    "import numpy as np"
   ]
  },
  {
   "cell_type": "code",
   "execution_count": 15,
   "id": "1385f75a",
   "metadata": {},
   "outputs": [
    {
     "data": {
      "text/plain": [
       "array([[0, 1, 0, 1, 0, 1, 0, 1],\n",
       "       [1, 0, 1, 0, 1, 0, 1, 0],\n",
       "       [0, 1, 0, 1, 0, 1, 0, 1],\n",
       "       [1, 0, 1, 0, 1, 0, 1, 0],\n",
       "       [0, 1, 0, 1, 0, 1, 0, 1],\n",
       "       [1, 0, 1, 0, 1, 0, 1, 0],\n",
       "       [0, 1, 0, 1, 0, 1, 0, 1],\n",
       "       [1, 0, 1, 0, 1, 0, 1, 0]], dtype=uint8)"
      ]
     },
     "execution_count": 15,
     "metadata": {},
     "output_type": "execute_result"
    }
   ],
   "source": [
    "square_size = 50  # Size of each square in pixels\n",
    "board_size = 8    # Number of squares in each row and column\n",
    "\n",
    "# Create an 8x8 board using alternating 0s and 1s\n",
    "board = np.zeros((board_size, board_size), dtype=np.uint8)\n",
    "board[1::2, 0::2] = 1\n",
    "board[0::2, 1::2] = 1\n",
    "board"
   ]
  },
  {
   "cell_type": "code",
   "execution_count": null,
   "id": "de4f937b",
   "metadata": {},
   "outputs": [],
   "source": []
  }
 ],
 "metadata": {
  "kernelspec": {
   "display_name": "Python 3 (ipykernel)",
   "language": "python",
   "name": "python3"
  },
  "language_info": {
   "codemirror_mode": {
    "name": "ipython",
    "version": 3
   },
   "file_extension": ".py",
   "mimetype": "text/x-python",
   "name": "python",
   "nbconvert_exporter": "python",
   "pygments_lexer": "ipython3",
   "version": "3.11.5"
  }
 },
 "nbformat": 4,
 "nbformat_minor": 5
}
